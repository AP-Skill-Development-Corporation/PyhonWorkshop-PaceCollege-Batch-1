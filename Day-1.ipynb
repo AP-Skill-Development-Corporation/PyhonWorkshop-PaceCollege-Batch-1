{
 "cells": [
  {
   "cell_type": "markdown",
   "metadata": {},
   "source": [
    "# MarkDown Documentation\n",
    "\n",
    "# Headings\n",
    "\n",
    "# Profile\n",
    "\n",
    "<img src=\"myname.png\" height=50px width=\"50px\">\n",
    "\n",
    "#### Email\n",
    "\n",
    "[myemail](https://www.gmail.com)\n",
    "\n",
    "\n",
    "**Sairam**\n",
    "\n",
    "\n",
    "## Technical Skills\n",
    "\n",
    "+ PythonProgramming\n",
    "\n",
    "- DjangoFramework\n",
    "\n",
    "+ Flask\n",
    "\n",
    "\n",
    "### Personal Information\n",
    "\n",
    "1. Address\n",
    "    - Ongole\n",
    "    \n",
    "5. District\n",
    "    + Prakasam\n",
    "    \n",
    "100. Pincode\n",
    "    - 523001\n",
    "\n",
    "400. Country\n",
    "    - India\n",
    "\n",
    "#### Summery\n",
    "\n",
    "My Name is **anilPolineni** my Home town *Ongole* my [Email](https://www.gmail.com)\n",
    "& ***My Profile*** <img src=\"myname.png\" width=20px height=20px>\n",
    "\n",
    "# Backtick\n",
    "\n",
    "`markdown`\n",
    "\n",
    "# BlockQuotes\n",
    "\n",
    "> welcome\n",
    "\n",
    "> how r u\n"
   ]
  },
  {
   "cell_type": "markdown",
   "metadata": {},
   "source": [
    "#  What is python\n",
    "\n",
    "# Features of Python\n",
    "\n",
    "# Hostory of Python\n",
    "\n",
    "# Keywords in python\n",
    "\n",
    "# Variable Decleration\n",
    "\n",
    "# Operators in python\n",
    "\n"
   ]
  },
  {
   "cell_type": "markdown",
   "metadata": {},
   "source": [
    "# In python we he 5 different keys\n",
    "\n",
    " + HighlevelProgramming\n",
    " + ObjectOriented \n",
    " - Interpeated\n",
    " + Dynamic Programming\n",
    " - Multipurpose Programming\n",
    " \n",
    "# Features of Python\n",
    "\n",
    "- simple easy to Learn\n",
    "+ open source\n",
    "+ platform independent\n",
    "+ cross paltform\n",
    "+ portable\n",
    "- sclable\n",
    "\n",
    "# History Of Python\n",
    "\n",
    "+ In 1980's  strated implimentation of python\n",
    "\n",
    "+ In 1991 released 0.9.0 version\n",
    "\n",
    "+ In 1994 realesed 1.0 version with features of Ananymous Function like Lambda,Map,Filter Reduce.\n",
    "\n",
    "+ In 2000 again republished 2.0 version wih features of data starctures like List,Tuple,Dictionary,Sets\n",
    "\n",
    "\n",
    "+ In 2008 again republished 3.0 with features of garbage collection and fastly\n",
    "\n",
    "\n",
    "\n"
   ]
  },
  {
   "cell_type": "markdown",
   "metadata": {},
   "source": [
    "# Keywords  in python"
   ]
  },
  {
   "cell_type": "raw",
   "metadata": {},
   "source": [
    "import keywords"
   ]
  },
  {
   "cell_type": "code",
   "execution_count": null,
   "metadata": {
    "scrolled": false
   },
   "outputs": [],
   "source": [
    "print(keyword.kwlist)"
   ]
  },
  {
   "cell_type": "code",
   "execution_count": null,
   "metadata": {},
   "outputs": [],
   "source": [
    "# Variable decleare"
   ]
  },
  {
   "cell_type": "code",
   "execution_count": null,
   "metadata": {},
   "outputs": [],
   "source": [
    "_a =12"
   ]
  },
  {
   "cell_type": "markdown",
   "metadata": {},
   "source": [
    "### Operators\n",
    "1.Arthematic:\n",
    "  - +,-,*,/,//,**,%\n",
    "  \n",
    "2.assigenment:\n",
    "  - =,+=,-=,*=,/=,//=,**=,%=\n",
    "  \n",
    "3.Relational or Comparision::\n",
    "  - <,>,<=,>=,!=,==\n",
    "  \n",
    "4.logical:\n",
    "  - and,or,not\n",
    "  \n",
    "5.membership:\n",
    "  - in, not in\n",
    "\n",
    "6.identity:\n",
    "  - is , is not\n",
    "  \n",
    "7.bitwise:\n",
    " - & ,|,^,>>,<<"
   ]
  },
  {
   "cell_type": "code",
   "execution_count": null,
   "metadata": {
    "scrolled": true
   },
   "outputs": [],
   "source": [
    "a = 106516516516351654195.616106169516026310651321321320320\n",
    "type(a)"
   ]
  },
  {
   "cell_type": "code",
   "execution_count": null,
   "metadata": {
    "scrolled": true
   },
   "outputs": [],
   "source": [
    "#1.int\n",
    "#2.float\n",
    "#3.string\n",
    "# 4.boolean\n",
    "# 5.Complex\n",
    "a = True\n",
    "name = 'abc'\n",
    "name1 = \"a\"\n",
    "\n",
    "print(type(name))\n",
    "print(type(name1))\n",
    "type(a)"
   ]
  },
  {
   "cell_type": "code",
   "execution_count": null,
   "metadata": {},
   "outputs": [],
   "source": [
    "c = complex(10,20)\n",
    "c"
   ]
  },
  {
   "cell_type": "code",
   "execution_count": null,
   "metadata": {},
   "outputs": [],
   "source": [
    "d = 10+20j"
   ]
  },
  {
   "cell_type": "code",
   "execution_count": null,
   "metadata": {
    "scrolled": true
   },
   "outputs": [],
   "source": [
    "type(d)"
   ]
  },
  {
   "cell_type": "code",
   "execution_count": null,
   "metadata": {},
   "outputs": [],
   "source": [
    "a = '1abc'\n",
    "b = int(float(a))\n",
    "b"
   ]
  },
  {
   "cell_type": "code",
   "execution_count": null,
   "metadata": {
    "scrolled": true
   },
   "outputs": [],
   "source": [
    "a = 10;b =20\n",
    "print(a+b)\n",
    "print(\"addition of a and b numbers is :\",a+b)"
   ]
  },
  {
   "cell_type": "code",
   "execution_count": null,
   "metadata": {
    "scrolled": false
   },
   "outputs": [],
   "source": [
    "a = int(input('enter a value'))\n",
    "b = int(input('enter b value'))\n",
    "\n",
    "print('addition of',a,'+',b,'=',a+b)\n",
    "print('substract of %d - %d =%d'%(a,b,a-b))\n",
    "print('mul of {} * {}={}'.format(a,b,a*b))"
   ]
  },
  {
   "cell_type": "markdown",
   "metadata": {},
   "source": [
    "# Relational or comparision\n",
    "\n",
    " + >,<,>=,<=,!=,=="
   ]
  },
  {
   "cell_type": "code",
   "execution_count": null,
   "metadata": {},
   "outputs": [],
   "source": [
    "print('greaterthan-->',10>5)\n",
    "print('lessthan-->',100<50)\n",
    "print('greaterthan or equalsto',200>=199)\n",
    "print('lessthan or equalsto',199<=100)\n",
    "print('not equalsto',200!=199)\n",
    "print('equals to',200==200)"
   ]
  },
  {
   "cell_type": "markdown",
   "metadata": {},
   "source": [
    "# Assignment \n",
    "\n",
    "+ +=,-=,*=,/=,**=,//=\n",
    "\n"
   ]
  },
  {
   "cell_type": "code",
   "execution_count": null,
   "metadata": {},
   "outputs": [],
   "source": [
    "a=10\n",
    "a+=90\n",
    "a-=50\n",
    "a*=2\n",
    "print('final result is',a)"
   ]
  },
  {
   "cell_type": "markdown",
   "metadata": {},
   "source": [
    "# Logical operator\n",
    "\n",
    "+ and,or,not\n"
   ]
  },
  {
   "cell_type": "code",
   "execution_count": null,
   "metadata": {},
   "outputs": [],
   "source": [
    "# And\n",
    "print(False and False)\n",
    "print(False and True)\n",
    "print(True and False)\n",
    "print(True and True) #(0,0 --- 0, 1-- 1,  0-- 1, 1 )"
   ]
  },
  {
   "cell_type": "code",
   "execution_count": null,
   "metadata": {},
   "outputs": [],
   "source": [
    "# or\n",
    "print(False or False)\n",
    "print(False or True)\n",
    "print(True or False)\n",
    "print(True or True) "
   ]
  },
  {
   "cell_type": "code",
   "execution_count": null,
   "metadata": {},
   "outputs": [],
   "source": [
    "# not with and\n",
    "print(not(False and False))\n",
    "print(not(False and True))\n",
    "print(not(True and False))\n",
    "print(not(True and True))\n",
    "\n",
    "# not with or\n",
    "\n",
    "print(not(False or False))\n",
    "print(not(False or True))\n",
    "print(not(True or False))\n",
    "print(not(True or True))"
   ]
  },
  {
   "cell_type": "markdown",
   "metadata": {},
   "source": [
    "# Membership\n",
    " + in, not in"
   ]
  },
  {
   "cell_type": "code",
   "execution_count": null,
   "metadata": {},
   "outputs": [],
   "source": [
    "s=\"Welcome to python workshop\"\n",
    "\n",
    "#print('to' in s)\n",
    "\n",
    "#print('too' in s)\n",
    "\n",
    "print('x' not in s)"
   ]
  },
  {
   "cell_type": "code",
   "execution_count": null,
   "metadata": {},
   "outputs": [],
   "source": [
    "# Identity operator\n",
    "\n",
    "x='hello'\n",
    "\n",
    "y='hell'\n",
    "print(x is y)\n",
    "\n",
    "print(x is not y)"
   ]
  },
  {
   "cell_type": "markdown",
   "metadata": {},
   "source": [
    "# bitwise operator\n",
    "\n",
    "+ & , |, ^"
   ]
  },
  {
   "cell_type": "code",
   "execution_count": null,
   "metadata": {},
   "outputs": [],
   "source": [
    "2&5\n",
    "5|10\n",
    "bin(5)\n",
    "\n",
    "int('0101',2)\n",
    "\n",
    "# Acii Values convert\n",
    "\n",
    "ord('A')\n",
    "chr(65)"
   ]
  },
  {
   "cell_type": "markdown",
   "metadata": {},
   "source": [
    "# Conditional Statements\n",
    "\n",
    "+ if, elif, else\n",
    "\n",
    "### condition syntax\n",
    "\n",
    "if condition:\n",
    "    statements\n",
    "elif codition:\n",
    "    statement\n",
    "else\n",
    "  statements"
   ]
  },
  {
   "cell_type": "code",
   "execution_count": null,
   "metadata": {},
   "outputs": [],
   "source": [
    "# Even numbers\n",
    "\n",
    "n=int(input('Enter the value:-'))\n",
    "if n%2!=0: # n%2==1\n",
    "    print(n,'is an odd number')\n",
    "else:\n",
    "    print(n,'not odd number')"
   ]
  },
  {
   "cell_type": "code",
   "execution_count": null,
   "metadata": {},
   "outputs": [],
   "source": [
    "day=int(input('Enter Day value'))\n",
    "\n",
    "if day==1:\n",
    "    print(day,' is Sunday')\n",
    "    \n",
    "elif day==2:\n",
    "     print(day,' is Monday')\n",
    "        \n",
    "elif day==3:\n",
    "     print(day,' is Tuesday')\n",
    "\n",
    "elif day==4:\n",
    "     print(day,' is Wednesday')\n",
    "        \n",
    "elif day==5:\n",
    "     print(day,' is Thursday')\n",
    "        \n",
    "elif day==6:\n",
    "     print(day,' is Friday')\n",
    "        \n",
    "elif day==7:\n",
    "     print(day,' is Saturday')\n",
    "else:\n",
    "    print('invalid value')"
   ]
  },
  {
   "cell_type": "code",
   "execution_count": null,
   "metadata": {
    "scrolled": true
   },
   "outputs": [],
   "source": [
    "time=float(input('enter time'))\n",
    "\n",
    "if time>=0.0 and time<=12.00:\n",
    "    print(time,'GoodMorning')\n",
    "elif time>=13.00 and time<=17.00:\n",
    "    print(time,'GoodAfterNoon')\n",
    "elif time>=18.00 and time<=21.00:\n",
    "    print(time,'GoodEvening')\n",
    "elif time>=22.00 and time<=24.00:\n",
    "    print(time,'GoodNight')\n",
    "else:\n",
    "    print(time,'Invalid Time')\n"
   ]
  },
  {
   "cell_type": "code",
   "execution_count": null,
   "metadata": {},
   "outputs": [],
   "source": [
    "n =input('enter value hre:-')\n",
    "if (n>='a' and n<='z') or(n>='A' and n<=\"Z\"):\n",
    "    print(n,'is a Alphabet')\n",
    "elif n>=\"0\" and n<='9':\n",
    "    print(n,'is digit')\n",
    "else:\n",
    "    print(n,'is an special symbol')"
   ]
  },
  {
   "cell_type": "code",
   "execution_count": null,
   "metadata": {},
   "outputs": [],
   "source": [
    "help()"
   ]
  },
  {
   "cell_type": "code",
   "execution_count": null,
   "metadata": {},
   "outputs": [],
   "source": [
    "import getpass\n",
    "dir(getpass)"
   ]
  },
  {
   "cell_type": "code",
   "execution_count": null,
   "metadata": {},
   "outputs": [],
   "source": [
    "from getpass import getpass\n",
    "\n",
    "username=input('enter username:-')\n",
    "password= getpass('enter password:-')\n",
    "\n",
    "if username ==\"sai\" and password==\"1234\":\n",
    "    print('Welcome',username)\n",
    "\n",
    "else:\n",
    "    print('invalid uname or password ')"
   ]
  },
  {
   "cell_type": "markdown",
   "metadata": {},
   "source": [
    "# Flow Control Statements\n",
    "\n",
    "+ forloop\n",
    "\n",
    "### Syntax\n",
    "\n",
    "for variable in range(inclusive,exclusive,step):\n",
    "    print(variable)\n",
    "\n",
    "+ whileloop\n",
    "\n",
    "# Jumping statements\n",
    "\n",
    "+ break\n",
    "+ continue\n",
    "+ pass"
   ]
  },
  {
   "cell_type": "code",
   "execution_count": null,
   "metadata": {},
   "outputs": [],
   "source": [
    "# forloop\n",
    "'''\n",
    "for i in range(100+1):\n",
    "    print(i,end=\"-->\")\n",
    "    \n",
    "# with inclusive\n",
    "for j in range(1,50+1):\n",
    "    print(j,end=\",\")\n",
    "   \n",
    "# Reverse numbers\n",
    "\n",
    "for k in range(50,0,-1):\n",
    "    print(k,end=\"<---\")\n",
    "  \n",
    "# evennumbrers using forloop\n",
    "\n",
    "for l in range(0,101,2):\n",
    "    print(l,end=\",\")\n",
    "'''    \n",
    "# Oddnumbrers using forloop\n",
    "\n",
    "for l in range(1,101,2):\n",
    "    print(l,end=\",\")"
   ]
  },
  {
   "cell_type": "code",
   "execution_count": null,
   "metadata": {},
   "outputs": [],
   "source": [
    "n = int(input())\n",
    "s = 0\n",
    "for i in range(n+1):\n",
    "    s+=i#s = s+i\n",
    "    #print(i,end = ' ')\n",
    "print(s)"
   ]
  },
  {
   "cell_type": "code",
   "execution_count": null,
   "metadata": {},
   "outputs": [],
   "source": [
    "#sum of natural numbers in b/w the given range"
   ]
  },
  {
   "cell_type": "code",
   "execution_count": null,
   "metadata": {},
   "outputs": [],
   "source": [
    "#n = int(input())\n",
    "for i in range(10,2,-2):\n",
    "    print(i)"
   ]
  },
  {
   "cell_type": "code",
   "execution_count": null,
   "metadata": {},
   "outputs": [],
   "source": [
    "n = int(input('enter factorial number'))\n",
    "s = 1\n",
    "for i in range(1,n+1):\n",
    "    s*=i#s = s+i\n",
    "    #print(i,end = ' ')\n",
    "print(s)"
   ]
  },
  {
   "cell_type": "code",
   "execution_count": null,
   "metadata": {},
   "outputs": [],
   "source": [
    "#table\n",
    "n = int(input('enter table number:'))\n",
    "m = int(input('enter table upto:'))\n",
    "for i in range(1,m+1):\n",
    "    print('{} * {} = {}'.format(n,i,n*i))"
   ]
  },
  {
   "cell_type": "code",
   "execution_count": null,
   "metadata": {},
   "outputs": [],
   "source": [
    "# "
   ]
  },
  {
   "cell_type": "code",
   "execution_count": null,
   "metadata": {},
   "outputs": [],
   "source": [
    "for i in range(5):\n",
    "    print('happy new year',end = ' ')"
   ]
  },
  {
   "cell_type": "code",
   "execution_count": null,
   "metadata": {},
   "outputs": [],
   "source": [
    "#2 * 1 = 2"
   ]
  },
  {
   "cell_type": "markdown",
   "metadata": {},
   "source": [
    "### While:\n",
    "\n",
    "` while condition:\n",
    "\n",
    "        Statements\n",
    "        \n",
    "        change the value`\n"
   ]
  },
  {
   "cell_type": "code",
   "execution_count": null,
   "metadata": {},
   "outputs": [],
   "source": [
    "i = 10\n",
    "while i>=1:\n",
    "    print(i)\n",
    "    i-=1"
   ]
  },
  {
   "cell_type": "code",
   "execution_count": null,
   "metadata": {},
   "outputs": [],
   "source": [
    "n = 1\n",
    "while n<20:\n",
    "    if n%2!=0:\n",
    "        print(n)\n",
    "    n+=1"
   ]
  },
  {
   "cell_type": "markdown",
   "metadata": {},
   "source": [
    "# Take a break Program using WhileCondition"
   ]
  },
  {
   "cell_type": "code",
   "execution_count": 2,
   "metadata": {},
   "outputs": [
    {
     "name": "stdout",
     "output_type": "stream",
     "text": [
      "Tue Jan  5 11:40:31 2021\n",
      "Tue Jan  5 11:40:41 2021\n"
     ]
    }
   ],
   "source": [
    "import webbrowser,time\n",
    "totalbreaks=2\n",
    "count=0\n",
    "\n",
    "while count<totalbreaks:\n",
    "    print(time.ctime())\n",
    "    time.sleep(10)\n",
    "    if count==1:\n",
    "        webbrowser.open('www.facebook.com')\n",
    "        \n",
    "    elif count==2:\n",
    "        webbrowser.open('www.youtube.com')\n",
    "        \n",
    "    count+=1\n",
    "    \n",
    "\n",
    "\n"
   ]
  },
  {
   "cell_type": "code",
   "execution_count": 5,
   "metadata": {},
   "outputs": [
    {
     "name": "stdout",
     "output_type": "stream",
     "text": [
      "10\n",
      "11\n",
      "12\n",
      "13\n",
      "14\n",
      "15\n"
     ]
    }
   ],
   "source": [
    "i = 10\n",
    "while i<20:\n",
    "    print(i)\n",
    "    \n",
    "    if i == 15:\n",
    "        break\n",
    "    i+=1\n",
    "    \n",
    "       "
   ]
  },
  {
   "cell_type": "code",
   "execution_count": 14,
   "metadata": {},
   "outputs": [
    {
     "name": "stdout",
     "output_type": "stream",
     "text": [
      "h\n",
      "e\n"
     ]
    }
   ],
   "source": [
    "s = 'hello'\n",
    "for i in s:\n",
    "    if i == 'l':\n",
    "        break\n",
    "    print(i)"
   ]
  },
  {
   "cell_type": "code",
   "execution_count": 1,
   "metadata": {},
   "outputs": [
    {
     "name": "stdout",
     "output_type": "stream",
     "text": [
      "11\n",
      "12\n",
      "13\n",
      "14\n",
      "16\n",
      "17\n",
      "18\n",
      "19\n",
      "20\n"
     ]
    }
   ],
   "source": [
    "i = 10\n",
    "while i<20:\n",
    "    i+=1\n",
    "    \n",
    "    if i == 15:\n",
    "        continue\n",
    "        \n",
    "    print(i)\n",
    "    \n",
    "    "
   ]
  },
  {
   "cell_type": "code",
   "execution_count": 4,
   "metadata": {},
   "outputs": [
    {
     "name": "stdout",
     "output_type": "stream",
     "text": [
      "e\n",
      "o\n"
     ]
    }
   ],
   "source": [
    "s = 'hello'\n",
    "for i in s:\n",
    "    if i == 'l' or i == 'h':\n",
    "        continue\n",
    "    print(i)"
   ]
  },
  {
   "cell_type": "code",
   "execution_count": 5,
   "metadata": {},
   "outputs": [],
   "source": [
    "s = '1.2'"
   ]
  },
  {
   "cell_type": "code",
   "execution_count": null,
   "metadata": {},
   "outputs": [],
   "source": [
    "#type "
   ]
  }
 ],
 "metadata": {
  "kernelspec": {
   "display_name": "Python 3",
   "language": "python",
   "name": "python3"
  },
  "language_info": {
   "codemirror_mode": {
    "name": "ipython",
    "version": 3
   },
   "file_extension": ".py",
   "mimetype": "text/x-python",
   "name": "python",
   "nbconvert_exporter": "python",
   "pygments_lexer": "ipython3",
   "version": "3.7.3"
  }
 },
 "nbformat": 4,
 "nbformat_minor": 2
}
