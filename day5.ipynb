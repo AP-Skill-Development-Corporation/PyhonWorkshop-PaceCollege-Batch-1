{
 "cells": [
  {
   "cell_type": "code",
   "execution_count": 1,
   "metadata": {},
   "outputs": [],
   "source": [
    "#1.Regular expression:\n",
    "#2.OOps\n",
    "#3.Numpy \n",
    "#4.matplotlib\n",
    "#5.Pandas"
   ]
  },
  {
   "cell_type": "markdown",
   "metadata": {},
   "source": [
    "Regular Expression:\n",
    "- to check the data is valid or not\n",
    "- data filters"
   ]
  },
  {
   "cell_type": "code",
   "execution_count": 8,
   "metadata": {},
   "outputs": [
    {
     "name": "stdout",
     "output_type": "stream",
     "text": [
      "aca\n",
      "aaa\n",
      "abba\n"
     ]
    }
   ],
   "source": [
    "l = ['abc','aca','aaa','abba']\n",
    "for i in l:\n",
    "    if i.endswith('a') and i.startswith('a'):\n",
    "        print(i)"
   ]
  },
  {
   "cell_type": "code",
   "execution_count": 9,
   "metadata": {},
   "outputs": [],
   "source": [
    "import re"
   ]
  },
  {
   "cell_type": "code",
   "execution_count": 10,
   "metadata": {
    "collapsed": true
   },
   "outputs": [
    {
     "data": {
      "text/plain": [
       "['A',\n",
       " 'ASCII',\n",
       " 'DEBUG',\n",
       " 'DOTALL',\n",
       " 'I',\n",
       " 'IGNORECASE',\n",
       " 'L',\n",
       " 'LOCALE',\n",
       " 'M',\n",
       " 'MULTILINE',\n",
       " 'Match',\n",
       " 'Pattern',\n",
       " 'RegexFlag',\n",
       " 'S',\n",
       " 'Scanner',\n",
       " 'T',\n",
       " 'TEMPLATE',\n",
       " 'U',\n",
       " 'UNICODE',\n",
       " 'VERBOSE',\n",
       " 'X',\n",
       " '_MAXCACHE',\n",
       " '__all__',\n",
       " '__builtins__',\n",
       " '__cached__',\n",
       " '__doc__',\n",
       " '__file__',\n",
       " '__loader__',\n",
       " '__name__',\n",
       " '__package__',\n",
       " '__spec__',\n",
       " '__version__',\n",
       " '_cache',\n",
       " '_compile',\n",
       " '_compile_repl',\n",
       " '_expand',\n",
       " '_locale',\n",
       " '_pickle',\n",
       " '_special_chars_map',\n",
       " '_subx',\n",
       " 'compile',\n",
       " 'copyreg',\n",
       " 'enum',\n",
       " 'error',\n",
       " 'escape',\n",
       " 'findall',\n",
       " 'finditer',\n",
       " 'fullmatch',\n",
       " 'functools',\n",
       " 'match',\n",
       " 'purge',\n",
       " 'search',\n",
       " 'split',\n",
       " 'sre_compile',\n",
       " 'sre_parse',\n",
       " 'sub',\n",
       " 'subn',\n",
       " 'template']"
      ]
     },
     "execution_count": 10,
     "metadata": {},
     "output_type": "execute_result"
    }
   ],
   "source": [
    "dir(re)"
   ]
  },
  {
   "cell_type": "code",
   "execution_count": 11,
   "metadata": {},
   "outputs": [],
   "source": [
    "# syntax:\n",
    "# re.mtehodname(pattern,data)\n",
    "# pattern is format of required data\n",
    "# data is given values"
   ]
  },
  {
   "cell_type": "code",
   "execution_count": 25,
   "metadata": {},
   "outputs": [
    {
     "data": {
      "text/plain": [
       "True"
      ]
     },
     "execution_count": 25,
     "metadata": {},
     "output_type": "execute_result"
    }
   ],
   "source": [
    "s = 'abcdaabaa'\n",
    "'a' in s"
   ]
  },
  {
   "cell_type": "code",
   "execution_count": 27,
   "metadata": {
    "scrolled": true
   },
   "outputs": [
    {
     "data": {
      "text/plain": [
       "['aa', 'aa']"
      ]
     },
     "execution_count": 27,
     "metadata": {},
     "output_type": "execute_result"
    }
   ],
   "source": [
    "re.findall('aa',s)"
   ]
  },
  {
   "cell_type": "markdown",
   "metadata": {},
   "source": [
    "### . (dot)\n",
    "- it matches any single character"
   ]
  },
  {
   "cell_type": "code",
   "execution_count": 45,
   "metadata": {},
   "outputs": [],
   "source": [
    "l = ['ab','aca','aaa','abba','']\n"
   ]
  },
  {
   "cell_type": "code",
   "execution_count": 33,
   "metadata": {
    "scrolled": true
   },
   "outputs": [
    {
     "name": "stdout",
     "output_type": "stream",
     "text": [
      "ab\n",
      "aca\n",
      "aaa\n"
     ]
    }
   ],
   "source": [
    "for i in l:\n",
    "    if len(i) == 3 or len(i) == 2:\n",
    "        print(i)"
   ]
  },
  {
   "cell_type": "code",
   "execution_count": 49,
   "metadata": {
    "scrolled": true
   },
   "outputs": [
    {
     "name": "stdout",
     "output_type": "stream",
     "text": [
      "aca\n",
      "aaa\n",
      "abba\n"
     ]
    }
   ],
   "source": [
    "for i in l:\n",
    "    if re.search('a.+a',i):\n",
    "        print(i)"
   ]
  },
  {
   "cell_type": "markdown",
   "metadata": {},
   "source": [
    "### * (star)\n",
    "- min value 0 maxvalue\n",
    "### + (plus)\n",
    "- min value is 1 max any\n",
    "### ^ (cap)\n",
    "- starts with\n",
    "###  (doller)\n",
    "- ends with\n",
    "### \\d  :\n",
    "- digits\n",
    "### []:\n",
    "- specific values\n",
    "### {min,max}\n",
    "- min to max value"
   ]
  },
  {
   "cell_type": "code",
   "execution_count": 60,
   "metadata": {
    "scrolled": true
   },
   "outputs": [
    {
     "data": {
      "text/plain": [
       "1814"
      ]
     },
     "execution_count": 60,
     "metadata": {},
     "output_type": "execute_result"
    }
   ],
   "source": [
    "s = 'abc 1 123 hello 456 1234'\n",
    "pattern = '\\d+'\n",
    "li = re.findall(pattern,s)\n",
    "sum(list(map(int,li)))"
   ]
  },
  {
   "cell_type": "code",
   "execution_count": 74,
   "metadata": {},
   "outputs": [
    {
     "name": "stdout",
     "output_type": "stream",
     "text": [
      "Venkey\n"
     ]
    }
   ],
   "source": [
    "names = ['Ramu','Anil','Prasanna','Venkey','Avinash']\n",
    "pattern = '^A.{3}$'\n",
    "pattern1 = '^.+[ey]$'\n",
    "for name in names:\n",
    "    if re.match(pattern1,name):\n",
    "        print(name)"
   ]
  },
  {
   "cell_type": "code",
   "execution_count": 75,
   "metadata": {},
   "outputs": [],
   "source": [
    "# How to Valid A phone number\n",
    "#1.10 digits\n",
    "#2.starts with 6-9\n"
   ]
  },
  {
   "cell_type": "code",
   "execution_count": 92,
   "metadata": {
    "scrolled": false
   },
   "outputs": [],
   "source": [
    "numbers1 = ['+916992223456']"
   ]
  },
  {
   "cell_type": "code",
   "execution_count": 93,
   "metadata": {},
   "outputs": [
    {
     "name": "stdout",
     "output_type": "stream",
     "text": [
      "+916992223456\n"
     ]
    }
   ],
   "source": [
    "pattern = '^(\\+91)[6-9]\\d{9}$'\n",
    "for number in numbers1:\n",
    "    if re.match(pattern,number):\n",
    "        print(number)\n",
    "    "
   ]
  },
  {
   "cell_type": "code",
   "execution_count": 100,
   "metadata": {
    "scrolled": false
   },
   "outputs": [
    {
     "name": "stdout",
     "output_type": "stream",
     "text": [
      "enter mail id: abc123@gmailacom\n"
     ]
    }
   ],
   "source": [
    "#1. first starts with any alphabets\n",
    "#2.any digits\n",
    "#3.@gmail.com\n",
    "email = input('enter mail id: ')\n",
    "pattern = '^[A-Za-z]{1,15}\\d{0,10}[@](gmail\\.com)$ | '\n",
    "if re.match(pattern,email):\n",
    "    print(email)"
   ]
  },
  {
   "cell_type": "markdown",
   "metadata": {},
   "source": [
    "## OOP'S:\n",
    "- class: blue print or model of a object\n",
    "- object : physical entity which is having behaviour and action\n",
    "- constructer: special method which is used to create instance variables"
   ]
  },
  {
   "cell_type": "code",
   "execution_count": 101,
   "metadata": {},
   "outputs": [],
   "source": [
    "# Create a class\n",
    "#class ClassName:\n",
    "    # variables\n",
    "    # methods\n",
    "    "
   ]
  },
  {
   "cell_type": "code",
   "execution_count": 104,
   "metadata": {},
   "outputs": [],
   "source": [
    "class Student:\n",
    "    x = 10"
   ]
  },
  {
   "cell_type": "code",
   "execution_count": 106,
   "metadata": {},
   "outputs": [
    {
     "name": "stdout",
     "output_type": "stream",
     "text": [
      "10\n"
     ]
    }
   ],
   "source": [
    "print(Student.x)"
   ]
  },
  {
   "cell_type": "code",
   "execution_count": 107,
   "metadata": {},
   "outputs": [],
   "source": [
    "# Create an object\n",
    "# rv = ClassName()\n",
    "s = Student()"
   ]
  },
  {
   "cell_type": "code",
   "execution_count": 108,
   "metadata": {},
   "outputs": [
    {
     "data": {
      "text/plain": [
       "10"
      ]
     },
     "execution_count": 108,
     "metadata": {},
     "output_type": "execute_result"
    }
   ],
   "source": [
    "s.x"
   ]
  },
  {
   "cell_type": "code",
   "execution_count": 4,
   "metadata": {},
   "outputs": [
    {
     "name": "stdout",
     "output_type": "stream",
     "text": [
      "10\n",
      "hello Ramu\n"
     ]
    }
   ],
   "source": [
    "class Student:\n",
    "    x = 10\n",
    "    def display(self,name):\n",
    "        print('hello {}'.format(name))\n",
    "s = Student()\n",
    "print(s.x)\n",
    "s.display('Ramu')"
   ]
  },
  {
   "cell_type": "code",
   "execution_count": 30,
   "metadata": {},
   "outputs": [],
   "source": [
    "class Student:\n",
    "    x = 10 #class var or static\n",
    "    def __init__(self,name):\n",
    "        self.name = name\n",
    "        self.y = 20  # instance var\n",
    "        print('This is constructer..')\n",
    "    def m1(self):\n",
    "        z = 30  # local var\n",
    "        print('This is method...')\n",
    "        print('my name is {}'.format(self.name))\n",
    "        print(z)"
   ]
  },
  {
   "cell_type": "code",
   "execution_count": 32,
   "metadata": {},
   "outputs": [
    {
     "name": "stdout",
     "output_type": "stream",
     "text": [
      "This is constructer..\n"
     ]
    }
   ],
   "source": [
    "s = Student('Ramu')"
   ]
  },
  {
   "cell_type": "code",
   "execution_count": 33,
   "metadata": {},
   "outputs": [
    {
     "name": "stdout",
     "output_type": "stream",
     "text": [
      "This is method...\n",
      "my name is Ramu\n",
      "30\n"
     ]
    }
   ],
   "source": [
    "s.m1()\n"
   ]
  },
  {
   "cell_type": "code",
   "execution_count": null,
   "metadata": {},
   "outputs": [],
   "source": []
  }
 ],
 "metadata": {
  "kernelspec": {
   "display_name": "Python 3",
   "language": "python",
   "name": "python3"
  },
  "language_info": {
   "codemirror_mode": {
    "name": "ipython",
    "version": 3
   },
   "file_extension": ".py",
   "mimetype": "text/x-python",
   "name": "python",
   "nbconvert_exporter": "python",
   "pygments_lexer": "ipython3",
   "version": "3.7.3"
  }
 },
 "nbformat": 4,
 "nbformat_minor": 2
}
