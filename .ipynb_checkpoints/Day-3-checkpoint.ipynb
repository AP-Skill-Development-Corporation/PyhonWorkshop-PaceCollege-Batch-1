{
 "cells": [
  {
   "cell_type": "markdown",
   "metadata": {},
   "source": [
    "# Data structures\n",
    "\n",
    "<img src=\"python.jpg\" width=300px height=100px>\n",
    "\n",
    "### List\n",
    "\n",
    "* List is a sequences, typically used to store collections of homogeneous items\n",
    "* Lists are mutable\n",
    "* Using a pair of square brackets to denote the empty list: []\n",
    "* Using square brackets, separating items with commas: [a], [a, b, c]\n",
    "* Using a list comprehension: [x for x in iterable]\n",
    "* Using the type constructor: list() or list(iterable)\n",
    "\n",
    "### Tuples\n",
    "\n",
    "\n",
    "### Dictionaries\n",
    "\n",
    "\n",
    "### Sets"
   ]
  },
  {
   "cell_type": "code",
   "execution_count": null,
   "metadata": {},
   "outputs": [],
   "source": []
  }
 ],
 "metadata": {
  "kernelspec": {
   "display_name": "Python 3",
   "language": "python",
   "name": "python3"
  },
  "language_info": {
   "codemirror_mode": {
    "name": "ipython",
    "version": 3
   },
   "file_extension": ".py",
   "mimetype": "text/x-python",
   "name": "python",
   "nbconvert_exporter": "python",
   "pygments_lexer": "ipython3",
   "version": "3.7.3"
  }
 },
 "nbformat": 4,
 "nbformat_minor": 2
}
