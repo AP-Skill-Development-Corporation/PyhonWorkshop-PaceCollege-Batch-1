{
 "cells": [
  {
   "cell_type": "markdown",
   "metadata": {},
   "source": [
    "# MarkDown Documentation\n",
    "\n",
    "# Headings\n",
    "\n",
    "# Profile\n",
    "\n",
    "<img src=\"myname.png\" height=50px width=\"50px\">\n",
    "\n",
    "#### Email\n",
    "\n",
    "[myemail](https://www.gmail.com)\n",
    "\n",
    "\n",
    "**Sairam**\n",
    "\n",
    "\n",
    "## Technical Skills\n",
    "\n",
    "+ PythonProgramming\n",
    "\n",
    "- DjangoFramework\n",
    "\n",
    "+ Flask\n",
    "\n",
    "\n",
    "### Personal Information\n",
    "\n",
    "1. Address\n",
    "    - Ongole\n",
    "    \n",
    "5. District\n",
    "    + Prakasam\n",
    "    \n",
    "100. Pincode\n",
    "    - 523001\n",
    "\n",
    "400. Country\n",
    "    - India\n",
    "\n",
    "#### Summery\n",
    "\n",
    "My Name is **anilPolineni** my Home town *Ongole* my [Email](https://www.gmail.com)\n",
    "& ***My Profile*** <img src=\"myname.png\" width=20px height=20px>\n",
    "\n",
    "# Backtick\n",
    "\n",
    "`markdown`\n",
    "\n",
    "# BlockQuotes\n",
    "\n",
    "> welcome\n",
    "\n",
    "> how r u\n"
   ]
  },
  {
   "cell_type": "markdown",
   "metadata": {},
   "source": [
    "#  What is python\n",
    "\n",
    "# Features of Python\n",
    "\n",
    "# Hostory of Python\n",
    "\n",
    "# Keywords in python\n",
    "\n",
    "# Variable Decleration\n",
    "\n",
    "# Operators in python\n",
    "\n"
   ]
  },
  {
   "cell_type": "markdown",
   "metadata": {},
   "source": [
    "# In python we he 5 different keys\n",
    "\n",
    " + HighlevelProgramming\n",
    " + ObjectOriented \n",
    " - Interpeated\n",
    " + Dynamic Programming\n",
    " - Multipurpose Programming\n",
    " \n",
    "# Features of Python\n",
    "\n",
    "- simple easy to Learn\n",
    "+ open source\n",
    "+ platform independent\n",
    "+ cross paltform\n",
    "+ portable\n",
    "- sclable\n",
    "\n",
    "# History Of Python\n",
    "\n",
    "+ In 1980's  strated implimentation of python\n",
    "\n",
    "+ In 1991 released 0.9.0 version\n",
    "\n",
    "+ In 1994 realesed 1.0 version with features of Ananymous Function like Lambda,Map,Filter Reduce.\n",
    "\n",
    "+ In 2000 again republished 2.0 version wih features of data starctures like List,Tuple,Dictionary,Sets\n",
    "\n",
    "\n",
    "+ In 2008 again republished 3.0 with features of garbage collection and fastly\n",
    "\n",
    "\n",
    "\n"
   ]
  },
  {
   "cell_type": "markdown",
   "metadata": {},
   "source": [
    "# Keywords  in python"
   ]
  },
  {
   "cell_type": "raw",
   "metadata": {},
   "source": [
    "import keywords"
   ]
  },
  {
   "cell_type": "code",
   "execution_count": 13,
   "metadata": {
    "scrolled": false
   },
   "outputs": [
    {
     "name": "stdout",
     "output_type": "stream",
     "text": [
      "['False', 'None', 'True', 'and', 'as', 'assert', 'async', 'await', 'break', 'class', 'continue', 'def', 'del', 'elif', 'else', 'except', 'finally', 'for', 'from', 'global', 'if', 'import', 'in', 'is', 'lambda', 'nonlocal', 'not', 'or', 'pass', 'raise', 'return', 'try', 'while', 'with', 'yield']\n"
     ]
    }
   ],
   "source": [
    "print(keyword.kwlist)"
   ]
  },
  {
   "cell_type": "code",
   "execution_count": 2,
   "metadata": {},
   "outputs": [],
   "source": [
    "# Variable decleare"
   ]
  },
  {
   "cell_type": "code",
   "execution_count": 6,
   "metadata": {},
   "outputs": [],
   "source": [
    "_a =12"
   ]
  },
  {
   "cell_type": "markdown",
   "metadata": {},
   "source": [
    "### Operators\n",
    "1.Arthematic:\n",
    "  - +,-,*,/,//,**,%\n",
    "  \n",
    "2.assigenment:\n",
    "  - =,+=,-=,*=,/=,//=,**=,%=\n",
    "  \n",
    "3.Relational or Comparision::\n",
    "  - <,>,<=,>=,!=,==\n",
    "  \n",
    "4.logical:\n",
    "  - and,or,not\n",
    "  \n",
    "5.membership:\n",
    "  - in, not in\n",
    "\n",
    "6.identity:\n",
    "  - is , is not\n",
    "  \n",
    "7.bitwise:\n",
    " - & ,|,^,>>,<<"
   ]
  },
  {
   "cell_type": "code",
   "execution_count": 11,
   "metadata": {
    "scrolled": true
   },
   "outputs": [
    {
     "data": {
      "text/plain": [
       "float"
      ]
     },
     "execution_count": 11,
     "metadata": {},
     "output_type": "execute_result"
    }
   ],
   "source": [
    "a = 106516516516351654195.616106169516026310651321321320320\n",
    "type(a)"
   ]
  },
  {
   "cell_type": "code",
   "execution_count": 18,
   "metadata": {
    "scrolled": true
   },
   "outputs": [
    {
     "name": "stdout",
     "output_type": "stream",
     "text": [
      "<class 'str'>\n",
      "<class 'str'>\n"
     ]
    },
    {
     "data": {
      "text/plain": [
       "bool"
      ]
     },
     "execution_count": 18,
     "metadata": {},
     "output_type": "execute_result"
    }
   ],
   "source": [
    "#1.int\n",
    "#2.float\n",
    "#3.string\n",
    "# 4.boolean\n",
    "# 5.Complex\n",
    "a = True\n",
    "name = 'abc'\n",
    "name1 = \"a\"\n",
    "\n",
    "print(type(name))\n",
    "print(type(name1))\n",
    "type(a)"
   ]
  },
  {
   "cell_type": "code",
   "execution_count": 21,
   "metadata": {},
   "outputs": [
    {
     "data": {
      "text/plain": [
       "(10+20j)"
      ]
     },
     "execution_count": 21,
     "metadata": {},
     "output_type": "execute_result"
    }
   ],
   "source": [
    "c = complex(10,20)\n",
    "c"
   ]
  },
  {
   "cell_type": "code",
   "execution_count": 25,
   "metadata": {},
   "outputs": [],
   "source": [
    "d = 10+20j"
   ]
  },
  {
   "cell_type": "code",
   "execution_count": 26,
   "metadata": {
    "scrolled": true
   },
   "outputs": [
    {
     "data": {
      "text/plain": [
       "complex"
      ]
     },
     "execution_count": 26,
     "metadata": {},
     "output_type": "execute_result"
    }
   ],
   "source": [
    "type(d)"
   ]
  },
  {
   "cell_type": "code",
   "execution_count": 32,
   "metadata": {},
   "outputs": [
    {
     "data": {
      "text/plain": [
       "1"
      ]
     },
     "execution_count": 32,
     "metadata": {},
     "output_type": "execute_result"
    }
   ],
   "source": [
    "a = '1abc'\n",
    "b = int(float(a))\n",
    "b"
   ]
  },
  {
   "cell_type": "code",
   "execution_count": 39,
   "metadata": {
    "scrolled": true
   },
   "outputs": [
    {
     "name": "stdout",
     "output_type": "stream",
     "text": [
      "30\n",
      "addition of two numbers is : 30\n"
     ]
    }
   ],
   "source": [
    "a = 10;b =20\n",
    "print(a+b)\n",
    "print(\"addition of a and b numbers is :\",a+b)"
   ]
  },
  {
   "cell_type": "code",
   "execution_count": 4,
   "metadata": {
    "scrolled": false
   },
   "outputs": [
    {
     "name": "stdout",
     "output_type": "stream",
     "text": [
      "enter a value10\n",
      "enter b value10\n",
      "addition of 10 + 10 = 20\n",
      "substract of 10 - 10 =0\n",
      "mul of 10 * 10=100\n"
     ]
    }
   ],
   "source": [
    "a = int(input('enter a value'))\n",
    "b = int(input('enter b value'))\n",
    "\n",
    "print('addition of',a,'+',b,'=',a+b)\n",
    "print('substract of %d - %d =%d'%(a,b,a-b))\n",
    "print('mul of {} * {}={}'.format(a,b,a*b))"
   ]
  },
  {
   "cell_type": "markdown",
   "metadata": {},
   "source": [
    "# Relational or comparision\n",
    "\n",
    " + >,<,>=,<=,!=,=="
   ]
  },
  {
   "cell_type": "code",
   "execution_count": 9,
   "metadata": {},
   "outputs": [
    {
     "name": "stdout",
     "output_type": "stream",
     "text": [
      "greaterthan--> True\n",
      "lessthan--> False\n",
      "greaterthan or equalsto True\n",
      "lessthan or equalsto False\n",
      "not equalsto True\n",
      "equals to True\n"
     ]
    }
   ],
   "source": [
    "print('greaterthan-->',10>5)\n",
    "print('lessthan-->',100<50)\n",
    "print('greaterthan or equalsto',200>=199)\n",
    "print('lessthan or equalsto',199<=100)\n",
    "print('not equalsto',200!=199)\n",
    "print('equals to',200==200)"
   ]
  },
  {
   "cell_type": "markdown",
   "metadata": {},
   "source": [
    "# Assignment \n",
    "\n",
    "+ +=,-=,*=,/=,**=,//=\n",
    "\n"
   ]
  },
  {
   "cell_type": "code",
   "execution_count": 19,
   "metadata": {},
   "outputs": [
    {
     "name": "stdout",
     "output_type": "stream",
     "text": [
      "final result is 100\n"
     ]
    }
   ],
   "source": [
    "a=10\n",
    "a+=90\n",
    "a-=50\n",
    "a*=2\n",
    "print('final result is',a)"
   ]
  },
  {
   "cell_type": "markdown",
   "metadata": {},
   "source": [
    "# Logical operator\n",
    "\n",
    "+ and,or,not\n"
   ]
  },
  {
   "cell_type": "code",
   "execution_count": 20,
   "metadata": {},
   "outputs": [
    {
     "name": "stdout",
     "output_type": "stream",
     "text": [
      "False\n",
      "False\n",
      "False\n",
      "True\n"
     ]
    }
   ],
   "source": [
    "# And\n",
    "print(False and False)\n",
    "print(False and True)\n",
    "print(True and False)\n",
    "print(True and True) #(0,0 --- 0, 1-- 1,  0-- 1, 1 )"
   ]
  },
  {
   "cell_type": "code",
   "execution_count": 21,
   "metadata": {},
   "outputs": [
    {
     "name": "stdout",
     "output_type": "stream",
     "text": [
      "False\n",
      "True\n",
      "True\n",
      "True\n"
     ]
    }
   ],
   "source": [
    "# or\n",
    "print(False or False)\n",
    "print(False or True)\n",
    "print(True or False)\n",
    "print(True or True) "
   ]
  },
  {
   "cell_type": "code",
   "execution_count": 22,
   "metadata": {},
   "outputs": [
    {
     "name": "stdout",
     "output_type": "stream",
     "text": [
      "True\n",
      "True\n",
      "True\n",
      "False\n",
      "True\n",
      "False\n",
      "False\n",
      "False\n"
     ]
    }
   ],
   "source": [
    "# not with and\n",
    "print(not(False and False))\n",
    "print(not(False and True))\n",
    "print(not(True and False))\n",
    "print(not(True and True))\n",
    "\n",
    "# not with or\n",
    "\n",
    "print(not(False or False))\n",
    "print(not(False or True))\n",
    "print(not(True or False))\n",
    "print(not(True or True))"
   ]
  },
  {
   "cell_type": "markdown",
   "metadata": {},
   "source": [
    "# Membership\n",
    " + in, not in"
   ]
  },
  {
   "cell_type": "code",
   "execution_count": 26,
   "metadata": {},
   "outputs": [
    {
     "name": "stdout",
     "output_type": "stream",
     "text": [
      "True\n"
     ]
    }
   ],
   "source": [
    "s=\"Welcome to python workshop\"\n",
    "\n",
    "#print('to' in s)\n",
    "\n",
    "#print('too' in s)\n",
    "\n",
    "print('x' not in s)"
   ]
  },
  {
   "cell_type": "code",
   "execution_count": 30,
   "metadata": {},
   "outputs": [
    {
     "name": "stdout",
     "output_type": "stream",
     "text": [
      "False\n",
      "True\n"
     ]
    }
   ],
   "source": [
    "# Identity operator\n",
    "\n",
    "x='hello'\n",
    "\n",
    "y='hell'\n",
    "print(x is y)\n",
    "\n",
    "print(x is not y)"
   ]
  },
  {
   "cell_type": "markdown",
   "metadata": {},
   "source": [
    "# bitwise operator\n",
    "\n",
    "+ & , |, ^"
   ]
  },
  {
   "cell_type": "code",
   "execution_count": 56,
   "metadata": {},
   "outputs": [
    {
     "data": {
      "text/plain": [
       "'A'"
      ]
     },
     "execution_count": 56,
     "metadata": {},
     "output_type": "execute_result"
    }
   ],
   "source": [
    "2&5\n",
    "5|10\n",
    "bin(5)\n",
    "\n",
    "int('0101',2)\n",
    "\n",
    "# Acii Values convert\n",
    "\n",
    "ord('A')\n",
    "chr(65)"
   ]
  },
  {
   "cell_type": "markdown",
   "metadata": {},
   "source": [
    "# Conditional Statements\n",
    "\n",
    "+ if, elif, else\n",
    "\n",
    "### condition syntax\n",
    "\n",
    "if condition:\n",
    "    statements\n",
    "elif codition:\n",
    "    statement\n",
    "else\n",
    "  statements"
   ]
  },
  {
   "cell_type": "code",
   "execution_count": 60,
   "metadata": {},
   "outputs": [
    {
     "name": "stdout",
     "output_type": "stream",
     "text": [
      "Enter the value:-200\n",
      "200 not odd number\n"
     ]
    }
   ],
   "source": [
    "# Even numbers\n",
    "\n",
    "n=int(input('Enter the value:-'))\n",
    "if n%2!=0: # n%2==1\n",
    "    print(n,'is an odd number')\n",
    "else:\n",
    "    print(n,'not odd number')"
   ]
  },
  {
   "cell_type": "code",
   "execution_count": 77,
   "metadata": {},
   "outputs": [
    {
     "name": "stdout",
     "output_type": "stream",
     "text": [
      "Enter Day value0\n",
      "invalid value\n"
     ]
    }
   ],
   "source": [
    "day=int(input('Enter Day value'))\n",
    "\n",
    "if day==1:\n",
    "    print(day,' is Sunday')\n",
    "    \n",
    "elif day==2:\n",
    "     print(day,' is Monday')\n",
    "        \n",
    "elif day==3:\n",
    "     print(day,' is Tuesday')\n",
    "\n",
    "elif day==4:\n",
    "     print(day,' is Wednesday')\n",
    "        \n",
    "elif day==5:\n",
    "     print(day,' is Thursday')\n",
    "        \n",
    "elif day==6:\n",
    "     print(day,' is Friday')\n",
    "        \n",
    "elif day==7:\n",
    "     print(day,' is Saturday')\n",
    "else:\n",
    "    print('invalid value')"
   ]
  },
  {
   "cell_type": "code",
   "execution_count": null,
   "metadata": {
    "scrolled": true
   },
   "outputs": [],
   "source": [
    "time=float(input('enter time'))\n",
    "\n",
    "if time>=0.0 and time<=12.00:\n",
    "    print(time,'GoodMorning')\n",
    "elif time>=13.00 and time<=17.00:\n",
    "    print(time,'GoodAfterNoon')\n",
    "elif time>=18.00 and time<=21.00:\n",
    "    print(time,'GoodEvening')\n",
    "elif time>=22.00 and time<=24.00:\n",
    "    print(time,'GoodNight')\n",
    "else:\n",
    "    print(time,'Invalid Time')\n"
   ]
  },
  {
   "cell_type": "code",
   "execution_count": 5,
   "metadata": {},
   "outputs": [
    {
     "name": "stdout",
     "output_type": "stream",
     "text": [
      "enter value hre:-@#\n",
      "@# is an special symbol\n"
     ]
    }
   ],
   "source": [
    "n =input('enter value hre:-')\n",
    "if (n>='a' and n<='z') or(n>='A' and n<=\"Z\"):\n",
    "    print(n,'is a Alphabet')\n",
    "elif n>=\"0\" and n<='9':\n",
    "    print(n,'is digit')\n",
    "else:\n",
    "    print(n,'is an special symbol')"
   ]
  },
  {
   "cell_type": "code",
   "execution_count": null,
   "metadata": {},
   "outputs": [
    {
     "name": "stdout",
     "output_type": "stream",
     "text": [
      "\n",
      "Welcome to Python 3.7's help utility!\n",
      "\n",
      "If this is your first time using Python, you should definitely check out\n",
      "the tutorial on the Internet at https://docs.python.org/3.7/tutorial/.\n",
      "\n",
      "Enter the name of any module, keyword, or topic to get help on writing\n",
      "Python programs and using Python modules.  To quit this help utility and\n",
      "return to the interpreter, just type \"quit\".\n",
      "\n",
      "To get a list of available modules, keywords, symbols, or topics, type\n",
      "\"modules\", \"keywords\", \"symbols\", or \"topics\".  Each module also comes\n",
      "with a one-line summary of what it does; to list the modules whose name\n",
      "or summary contain a given string such as \"spam\", type \"modules spam\".\n",
      "\n",
      "help> modules\n",
      "\n",
      "Please wait a moment while I gather a list of all available modules...\n",
      "\n"
     ]
    },
    {
     "name": "stderr",
     "output_type": "stream",
     "text": [
      "C:\\ProgramData\\Anaconda3\\lib\\site-packages\\IPython\\kernel\\__init__.py:13: ShimWarning: The `IPython.kernel` package has been deprecated since IPython 4.0.You should import from ipykernel or jupyter_client instead.\n",
      "  \"You should import from ipykernel or jupyter_client instead.\", ShimWarning)\n",
      "WARNING: AstropyDeprecationWarning: astropy.utils.compat.futures is now deprecated - use concurrent.futures instead [astropy.utils.compat.futures]\n",
      "C:\\ProgramData\\Anaconda3\\lib\\site-packages\\distributed\\config.py:20: YAMLLoadWarning: calling yaml.load() without Loader=... is deprecated, as the default Loader is unsafe. Please read https://msg.pyyaml.org/load for full details.\n",
      "  defaults = yaml.load(f)\n",
      "C:\\ProgramData\\Anaconda3\\lib\\site-packages\\nltk\\twitter\\__init__.py:22: UserWarning: The twython library has not been installed. Some functionality from the twitter package will not be available.\n",
      "  \"The twython library has not been installed. \"\n",
      "C:\\ProgramData\\Anaconda3\\lib\\site-packages\\skimage\\novice\\__init__.py:103: UserWarning: The `skimage.novice` module was deprecated in version 0.14. It will be removed in 0.16.\n",
      "  warnings.warn(\"The `skimage.novice` module was deprecated in version 0.14. \"\n",
      "C:\\ProgramData\\Anaconda3\\lib\\site-packages\\skimage\\viewer\\utils\\core.py:10: UserWarning: Recommended matplotlib backend is `Agg` for full skimage.viewer functionality.\n",
      "  warn(\"Recommended matplotlib backend is `Agg` for full \"\n",
      "C:\\ProgramData\\Anaconda3\\lib\\site-packages\\sphinx\\websupport\\__init__.py:25: RemovedInSphinx20Warning: sphinx.websupport module is now provided as sphinxcontrib-websupport. sphinx.websupport will be removed at Sphinx-2.0. Please use the package instead.\n",
      "  RemovedInSphinx20Warning)\n",
      "C:\\ProgramData\\Anaconda3\\lib\\site-packages\\qtawesome\\iconic_font.py:276: UserWarning: You need to have a running QApplication to use QtAwesome!\n",
      "  warnings.warn(\"You need to have a running \"\n",
      "C:\\ProgramData\\Anaconda3\\lib\\pkgutil.py:107: VisibleDeprecationWarning: zmq.eventloop.minitornado is deprecated in pyzmq 14.0 and will be removed.\n",
      "    Install tornado itself to use zmq with the tornado IOLoop.\n",
      "    \n",
      "  yield from walk_packages(path, info.name+'.', onerror)\n"
     ]
    },
    {
     "name": "stdout",
     "output_type": "stream",
     "text": [
      "Crypto              builtins            mistune             soupsieve\n",
      "Cython              bz2                 mkl                 sphinx\n",
      "IPython             cProfile            mkl_fft             sphinxcontrib\n",
      "OpenSSL             calendar            mkl_random          spyder\n",
      "PIL                 certifi             mmap                spyder_breakpoints\n",
      "PyQt5               cffi                mmapfile            spyder_io_dcm\n",
      "__future__          cgi                 mmsystem            spyder_io_hdf5\n",
      "_abc                cgitb               modulefinder        spyder_kernels\n",
      "_ast                chardet             more_itertools      spyder_profiler\n",
      "_asyncio            chunk               mpmath              spyder_pylint\n",
      "_bisect             click               msgpack             sqlalchemy\n",
      "_blake2             cloudpickle         msilib              sqlite3\n",
      "_bootlocale         clyent              msvcrt              sre_compile\n",
      "_bz2                cmath               multipledispatch    sre_constants\n",
      "_cffi_backend       cmd                 multiprocessing     sre_parse\n",
      "_codecs             code                navigator_updater   ssl\n",
      "_codecs_cn          codecs              nbconvert           sspi\n",
      "_codecs_hk          codeop              nbformat            sspicon\n",
      "_codecs_iso2022     collections         netbios             stat\n",
      "_codecs_jp          colorama            netrc               statistics\n",
      "_codecs_kr          colorsys            networkx            statsmodels\n",
      "_codecs_tw          commctrl            nltk                storemagic\n",
      "_collections        compileall          nntplib             string\n",
      "_collections_abc    comtypes            nose                stringprep\n",
      "_compat_pickle      concurrent          notebook            struct\n",
      "_compression        conda               nt                  subprocess\n",
      "_contextvars        conda_build         ntpath              sunau\n",
      "_csv                conda_env           ntsecuritycon       symbol\n",
      "_ctypes             conda_package_handling nturl2path          sympy\n",
      "_ctypes_test        conda_verify        numba               sympyprinting\n",
      "_datetime           configparser        numbers             symtable\n",
      "_decimal            contextlib          numexpr             sys\n",
      "_dummy_thread       contextlib2         numpy               sysconfig\n",
      "_elementtree        contextvars         numpydoc            tables\n",
      "_functools          copy                odbc                tabnanny\n",
      "_hashlib            copyreg             olefile             tarfile\n",
      "_heapq              crypt               opcode              tblib\n",
      "_imp                cryptography        openpyxl            telnetlib\n",
      "_io                 csv                 operator            tempfile\n",
      "_json               ctypes              optparse            terminado\n",
      "_locale             curl                os                  test\n",
      "_lsprof             curses              packaging           test_data\n",
      "_lzma               cwp                 pandas              test_path\n",
      "_markupbase         cycler              pandocfilters       test_pycosat\n",
      "_md5                cython              parser              testpath\n",
      "_msi                cythonmagic         parso               tests\n",
      "_multibytecodec     cytoolz             partd               textwrap\n",
      "_multiprocessing    dask                past                this\n",
      "_nsis               dataclasses         path                threading\n",
      "_opcode             datetime            pathlib             time\n",
      "_operator           dateutil            pathlib2            timeit\n",
      "_osx_support        dbi                 patsy               timer\n",
      "_overlapped         dbm                 pdb                 tkinter\n",
      "_pickle             dde                 pep8                tlz\n",
      "_py_abc             decimal             perfmon             token\n",
      "_pydecimal          decorator           pickle              tokenize\n",
      "_pyio               defusedxml          pickleshare         toolz\n",
      "_pylief             difflib             pickletools         tornado\n",
      "_pyrsistent_version dis                 pip                 tqdm\n",
      "_pytest             distributed         pipes               trace\n",
      "_queue              distutils           pkg_resources       traceback\n",
      "_random             doctest             pkginfo             tracemalloc\n",
      "_sha1               docutils            pkgutil             traitlets\n",
      "_sha256             dummy_threading     platform            tty\n",
      "_sha3               easy_install        plistlib            turtle\n",
      "_sha512             email               pluggy              turtledemo\n",
      "_signal             encodings           ply                 types\n",
      "_sitebuiltins       ensurepip           poplib              typing\n",
      "_socket             entrypoints         posixpath           unicodecsv\n",
      "_sqlite3            enum                pprint              unicodedata\n",
      "_sre                errno               profile             unittest\n",
      "_ssl                et_xmlfile          prometheus_client   urllib\n",
      "_stat               fastcache           prompt_toolkit      urllib3\n",
      "_string             faulthandler        pstats              uu\n",
      "_strptime           filecmp             psutil              uuid\n",
      "_struct             fileinput           pty                 venv\n",
      "_symtable           filelock            pvectorc            warnings\n",
      "_system_path        flask               py                  wave\n",
      "_testbuffer         fnmatch             py_compile          wcwidth\n",
      "_testcapi           formatter           pyclbr              weakref\n",
      "_testconsole        fractions           pycodestyle         webbrowser\n",
      "_testimportmultiple ftplib              pycosat             webencodings\n",
      "_testmultiphase     functools           pycparser           werkzeug\n",
      "_thread             future              pycurl              wheel\n",
      "_threading_local    gc                  pydoc               widgetsnbextension\n",
      "_tkinter            genericpath         pydoc_data          win2kras\n",
      "_tracemalloc        getopt              pyexpat             win32api\n",
      "_warnings           getpass             pyflakes            win32clipboard\n",
      "_weakref            gettext             pygments            win32com\n",
      "_weakrefset         gevent              pylab               win32con\n",
      "_win32sysloader     glob                pylint              win32console\n",
      "_winapi             glob2               pyodbc              win32cred\n",
      "_winxptheme         greenlet            pyparsing           win32crypt\n",
      "_yaml               gzip                pyreadline          win32cryptcon\n",
      "abc                 h5py                pyrsistent          win32event\n",
      "adodbapi            hashlib             pytest              win32evtlog\n",
      "afxres              heapdict            pytest_arraydiff    win32evtlogutil\n",
      "aifc                heapq               pytest_doctestplus  win32file\n",
      "alabaster           hmac                pytest_openfiles    win32gui\n",
      "anaconda_navigator  html                pytest_remotedata   win32gui_struct\n",
      "anaconda_project    html5lib            pythoncom           win32help\n",
      "antigravity         http                pytz                win32inet\n",
      "argparse            idlelib             pywin               win32inetcon\n",
      "array               idna                pywin32_testutil    win32job\n",
      "asn1crypto          imageio             pywintypes          win32lz\n",
      "ast                 imagesize           pywt                win32net\n",
      "astroid             imaplib             pyximport           win32netcon\n",
      "astropy             imghdr              qtawesome           win32pdh\n",
      "asynchat            imp                 qtconsole           win32pdhquery\n",
      "asyncio             importlib           qtpy                win32pdhutil\n",
      "asyncore            importlib_metadata  queue               win32pipe\n",
      "atexit              inspect             quopri              win32print\n",
      "atomicwrites        io                  random              win32process\n",
      "attr                ipaddress           rasutil             win32profile\n",
      "audioop             ipykernel           re                  win32ras\n",
      "autoreload          ipykernel_launcher  readline            win32rcparser\n",
      "babel               ipython_genutils    regcheck            win32security\n"
     ]
    },
    {
     "name": "stdout",
     "output_type": "stream",
     "text": [
      "backcall            ipywidgets          regutil             win32service\n",
      "backports           isapi               reprlib             win32serviceutil\n",
      "base64              isort               requests            win32timezone\n",
      "bdb                 isympy              rlcompleter         win32trace\n",
      "binascii            itertools           rmagic              win32traceutil\n",
      "binhex              itsdangerous        rope                win32transaction\n",
      "binstar_client      jdcal               ruamel_yaml         win32ts\n",
      "bisect              jedi                run                 win32ui\n",
      "bitarray            jinja2              runpy               win32uiole\n",
      "bkcharts            json                sched               win32verstamp\n",
      "bleach              jsonschema          scipy               win32wnet\n",
      "bokeh               jupyter             scripts             win_inet_pton\n",
      "boto                jupyter_client      seaborn             win_unicode_console\n",
      "bottleneck          jupyter_console     secrets             wincertstore\n",
      "brain_argparse      jupyter_core        select              winerror\n",
      "brain_attrs         jupyterlab          selectors           winioctlcon\n",
      "brain_builtin_inference jupyterlab_server   send2trash          winnt\n",
      "brain_collections   keyring             servicemanager      winperf\n",
      "brain_curses        keyword             setuptools          winpty\n",
      "brain_dateutil      kiwisolver          shelve              winreg\n",
      "brain_fstrings      lazy_object_proxy   shlex               winsound\n",
      "brain_functools     lib2to3             shutil              winxpgui\n",
      "brain_gi            libarchive          signal              winxptheme\n",
      "brain_hashlib       libfuturize         simplegeneric       wrapt\n",
      "brain_http          libpasteurize       singledispatch      wsgiref\n",
      "brain_io            lief                singledispatch_helpers xdrlib\n",
      "brain_mechanize     linecache           sip                 xlrd\n",
      "brain_multiprocessing llvmlite            sipconfig           xlsxwriter\n",
      "brain_namedtuple_enum locale              sipdistutils        xlwings\n",
      "brain_nose          locket              site                xlwt\n",
      "brain_numpy         logging             six                 xml\n",
      "brain_pkg_resources lxml                skimage             xmlrpc\n",
      "brain_pytest        lzma                sklearn             xmltodict\n",
      "brain_qt            macpath             smtpd               xxsubtype\n",
      "brain_random        mailbox             smtplib             yaml\n",
      "brain_re            mailcap             sndhdr              zict\n",
      "brain_six           markupsafe          snowballstemmer     zipapp\n",
      "brain_ssl           marshal             socket              zipfile\n",
      "brain_subprocess    math                socketserver        zipimport\n",
      "brain_threading     matplotlib          socks               zipp\n",
      "brain_typing        mccabe              sockshandler        zlib\n",
      "brain_uuid          menuinst            sortedcollections   zmq\n",
      "bs4                 mimetypes           sortedcontainers    \n",
      "\n",
      "Enter any module name to get more help.  Or, type \"modules spam\" to search\n",
      "for modules whose name or summary contain the string \"spam\".\n",
      "\n"
     ]
    }
   ],
   "source": [
    "help()"
   ]
  },
  {
   "cell_type": "code",
   "execution_count": 2,
   "metadata": {},
   "outputs": [
    {
     "data": {
      "text/plain": [
       "['GetPassWarning',\n",
       " '__all__',\n",
       " '__builtins__',\n",
       " '__cached__',\n",
       " '__doc__',\n",
       " '__file__',\n",
       " '__loader__',\n",
       " '__name__',\n",
       " '__package__',\n",
       " '__spec__',\n",
       " '_raw_input',\n",
       " 'contextlib',\n",
       " 'fallback_getpass',\n",
       " 'getpass',\n",
       " 'getuser',\n",
       " 'io',\n",
       " 'msvcrt',\n",
       " 'os',\n",
       " 'sys',\n",
       " 'unix_getpass',\n",
       " 'warnings',\n",
       " 'win_getpass']"
      ]
     },
     "execution_count": 2,
     "metadata": {},
     "output_type": "execute_result"
    }
   ],
   "source": [
    "import getpass\n",
    "dir(getpass)"
   ]
  },
  {
   "cell_type": "code",
   "execution_count": 5,
   "metadata": {},
   "outputs": [
    {
     "name": "stdout",
     "output_type": "stream",
     "text": [
      "enter username:-sai\n",
      "enter password:-········\n",
      "Welcome sai\n"
     ]
    }
   ],
   "source": [
    "from getpass import getpass\n",
    "\n",
    "username=input('enter username:-')\n",
    "password= getpass('enter password:-')\n",
    "\n",
    "if username ==\"sai\" and password==\"1234\":\n",
    "    print('Welcome',username)\n",
    "\n",
    "else:\n",
    "    print('invalid uname or password ')"
   ]
  },
  {
   "cell_type": "markdown",
   "metadata": {},
   "source": [
    "# Flow Control Statements\n",
    "\n",
    "+ forloop\n",
    "\n",
    "### Syntax\n",
    "\n",
    "for variable in range(inclusive,exclusive,step):\n",
    "    print(variable)\n",
    "\n",
    "+ whileloop\n",
    "\n",
    "# Jumping statements\n",
    "\n",
    "+ break\n",
    "+ continue\n",
    "+ pass"
   ]
  },
  {
   "cell_type": "code",
   "execution_count": 16,
   "metadata": {},
   "outputs": [
    {
     "name": "stdout",
     "output_type": "stream",
     "text": [
      "50<---49<---48<---47<---46<---45<---44<---43<---42<---41<---40<---39<---38<---37<---36<---35<---34<---33<---32<---31<---30<---29<---28<---27<---26<---25<---24<---23<---22<---21<---20<---19<---18<---17<---16<---15<---14<---13<---12<---11<---10<---9<---8<---7<---6<---5<---4<---3<---2<---1<---0\n",
      "2\n",
      "4\n",
      "6\n",
      "8\n",
      "10\n",
      "12\n",
      "14\n",
      "16\n",
      "18\n",
      "20\n",
      "22\n",
      "24\n",
      "26\n",
      "28\n",
      "30\n",
      "32\n",
      "34\n",
      "36\n",
      "38\n",
      "40\n",
      "42\n",
      "44\n",
      "46\n",
      "48\n",
      "50\n",
      "52\n",
      "54\n",
      "56\n",
      "58\n",
      "60\n",
      "62\n",
      "64\n",
      "66\n",
      "68\n",
      "70\n",
      "72\n",
      "74\n",
      "76\n",
      "78\n",
      "80\n",
      "82\n",
      "84\n",
      "86\n",
      "88\n",
      "90\n",
      "92\n",
      "94\n",
      "96\n",
      "98\n",
      "100\n"
     ]
    }
   ],
   "source": [
    "# forloop\n",
    "'''\n",
    "for i in range(100+1):\n",
    "    print(i,end=\"-->\")\n",
    "    \n",
    "# with inclusive\n",
    "for j in range(1,50+1):\n",
    "    print(j,end=\",\")\n",
    "'''   \n",
    "# Reverse numbers\n",
    "\n",
    "for k in range(50,0,-1):\n",
    "    print(k,end=\"<---\")\n",
    "    \n",
    "# evennumbrers using forloop\n",
    "\n",
    "for l in range(0,101,2):\n",
    "    print(l,end=\",\")"
   ]
  },
  {
   "cell_type": "code",
   "execution_count": null,
   "metadata": {},
   "outputs": [],
   "source": []
  }
 ],
 "metadata": {
  "kernelspec": {
   "display_name": "Python 3",
   "language": "python",
   "name": "python3"
  },
  "language_info": {
   "codemirror_mode": {
    "name": "ipython",
    "version": 3
   },
   "file_extension": ".py",
   "mimetype": "text/x-python",
   "name": "python",
   "nbconvert_exporter": "python",
   "pygments_lexer": "ipython3",
   "version": "3.7.3"
  }
 },
 "nbformat": 4,
 "nbformat_minor": 2
}
